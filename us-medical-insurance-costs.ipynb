{
 "cells": [
  {
   "cell_type": "markdown",
   "metadata": {},
   "source": [
    "# U.S. Medical Insurance Costs"
   ]
  },
  {
   "cell_type": "markdown",
   "metadata": {},
   "source": [
    "##### Thoughts when looking over the dataset\n",
    "\n",
    "Column titles:\n",
    "- age - int\n",
    "- sex - female/male\n",
    "- bmi - float\n",
    "- children - int\n",
    "- smoker - yes/no\n",
    "- region - northeast etc.\n",
    "- charges - float\n",
    "\n",
    "**No missing data**\n",
    "\n",
    "Items of particular interest: \n",
    "- How does the number of children affect insurance cost? Is there a female/male split within this? "
   ]
  },
  {
   "cell_type": "markdown",
   "metadata": {},
   "source": [
    "##### Scoping the project\n",
    "\n",
    "**Overall goal**\n",
    "- Describe the relationship between number of children and insurance cost. Assess whether there is differences in the relationship for males and females and different age groups. \n",
    "\n",
    "**Data** \n",
    "- Pull the data from the CSV file into a dictionary with each row as an entry and the column headers as keys.\n",
    "\n",
    "**Analyse**  \n",
    "- Group data based on number of children and find the min, max and average insurance cost for each group.\n",
    "- Group data based on number of children and female/male and find the min, max and average insurance cost for each group.\n",
    "- Group data based on number of children and 20 year age brackets and find the min, max and average insurance cost for each group.\n",
    "- Group data based on number of children, 20 year age brakets and female/male and find the min, max and average insurance cost for each group.\n",
    "- Find the group size of each group.\n",
    "\n",
    "**Evaluate**\n",
    "- Ensure the group sizes are statistically significant and then compare the averages of the diffent groups and draw conclusions. \n",
    "- Further analyse data based on evaluations.\n",
    "\n",
    "**Output**\n",
    "- Write a paragraph summarising findings. "
   ]
  },
  {
   "cell_type": "code",
   "execution_count": 1,
   "metadata": {},
   "outputs": [],
   "source": [
    "#Importing data from the CSV file.\n",
    "\n",
    "import csv\n",
    "\n",
    "# Stores the data in a dictionary with the following format - id_number: patient infofmation dictionary.\n",
    "with open('insurance.csv', newline='') as csvfile:\n",
    "    reader = csv.DictReader(csvfile)\n",
    "    data_dict = {}\n",
    "    i = 0\n",
    "    for row in reader:\n",
    "        data_dict[i] = row\n",
    "        i += 1\n",
    "#print(data_dict)\n"
   ]
  },
  {
   "cell_type": "code",
   "execution_count": 2,
   "metadata": {},
   "outputs": [],
   "source": [
    "# Function to convert a string to a float.\n",
    "def string_to_float(dict, key):\n",
    "    for data in dict.values():\n",
    "        string = data[key]\n",
    "        converted = float(string)\n",
    "        data[key] = converted\n",
    "        \n",
    "\n",
    "# Calling the function on bmi and charges\n",
    "string_to_float(data_dict, 'charges')\n",
    "string_to_float(data_dict, 'bmi')\n",
    "\n",
    "# Function to convert a string to an int.\n",
    "def string_to_int(dict, key):\n",
    "    for data in dict.values():\n",
    "        string = data[key]\n",
    "        converted = int(string)\n",
    "        data[key] = converted\n",
    "        \n",
    "\n",
    "# Calling the function on age and number of children\n",
    "string_to_int(data_dict, 'age')\n",
    "string_to_int(data_dict, 'children')\n",
    "\n",
    "#print(data_dict)\n",
    "        \n"
   ]
  },
  {
   "cell_type": "code",
   "execution_count": 3,
   "metadata": {},
   "outputs": [
    {
     "name": "stdout",
     "output_type": "stream",
     "text": [
      "Number of patients: 1338\n",
      "Average charges: 13270.42\n",
      "Number of patients: 1338\n",
      "Average children: 1.09\n"
     ]
    }
   ],
   "source": [
    "# Function to find the average.\n",
    "def average(dict, key):\n",
    "    print('Number of patients: ' + str(len(dict)))\n",
    "    total = 0\n",
    "    for data in dict.values():\n",
    "        cost = data[key]\n",
    "        total += cost\n",
    "    average = round(total / len(dict), 2)\n",
    "    print('Average ' + key +': ' + str(average))\n",
    "        \n",
    "# Calling average function on charges\n",
    "average(data_dict, 'charges')\n",
    "average(data_dict, 'children')\n",
    "  "
   ]
  },
  {
   "cell_type": "code",
   "execution_count": 4,
   "metadata": {},
   "outputs": [
    {
     "name": "stdout",
     "output_type": "stream",
     "text": [
      "Maximum children: 5\n"
     ]
    }
   ],
   "source": [
    "# Function to find the maximum value\n",
    "def find_max(dict, key):\n",
    "    max = 0\n",
    "    for data in dict.values():\n",
    "        value = data[key]\n",
    "        if value > max:\n",
    "            max = round(value, 2)\n",
    "    print('Maximum ' + key + ': ' + str(max))\n",
    "\n",
    "# Calling max function on children\n",
    "find_max(data_dict, 'children')"
   ]
  },
  {
   "cell_type": "code",
   "execution_count": 5,
   "metadata": {},
   "outputs": [
    {
     "name": "stdout",
     "output_type": "stream",
     "text": [
      "Minimum children: 0\n"
     ]
    }
   ],
   "source": [
    "# Function to find the minimum value\n",
    "def find_min(dict, key):\n",
    "    min = float('inf')\n",
    "    for data in dict.values():\n",
    "        value = data[key]\n",
    "        if value < min:\n",
    "            min = round(value, 2)\n",
    "    print('Minimum ' + key + ': ' + str(min))\n",
    "\n",
    "# Calling min function on children as test\n",
    "find_min(data_dict, 'children')"
   ]
  },
  {
   "cell_type": "code",
   "execution_count": 6,
   "metadata": {},
   "outputs": [
    {
     "name": "stdout",
     "output_type": "stream",
     "text": [
      "Minimum charges: 1121.87\n",
      "Maximum charges: 63770.43\n",
      "Number of patients: 574\n",
      "Average charges: 12365.98\n"
     ]
    }
   ],
   "source": [
    "# Function to create a smaller dictionary based on specific criteria e.g. patient having no children\n",
    "def create_dict(dict, key, criteria):\n",
    "    new_dict = {}\n",
    "    i = 0\n",
    "    for data in dict.values():\n",
    "        value = data[key]\n",
    "        if value == criteria:\n",
    "            new_dict[i] = data\n",
    "            i += 1\n",
    "    return new_dict\n",
    "\n",
    "# Calling create_dict to group patients with 0 children\n",
    "zero_children = create_dict(data_dict, 'children', 0)\n",
    "\n",
    "# Function to find min, max and average insurance cost from a dictionary\n",
    "def min_max_avg(dict, key):\n",
    "    find_min(dict, key)\n",
    "    find_max(dict, key)\n",
    "    average(dict, key)\n",
    "\n",
    "# Calling min_max_avg on zero_children dictionary\n",
    "min_max_avg(zero_children, 'charges')"
   ]
  },
  {
   "cell_type": "code",
   "execution_count": 7,
   "metadata": {},
   "outputs": [
    {
     "name": "stdout",
     "output_type": "stream",
     "text": [
      "Minimum charges: 1711.03\n",
      "Maximum charges: 58571.07\n",
      "Number of patients: 324\n",
      "Average charges: 12731.17\n"
     ]
    }
   ],
   "source": [
    "# Finding min, max and average insurance cost for patients with 1 child\n",
    "one_child = create_dict(data_dict, 'children', 1)\n",
    "min_max_avg(one_child, 'charges')"
   ]
  },
  {
   "cell_type": "code",
   "execution_count": 8,
   "metadata": {},
   "outputs": [
    {
     "name": "stdout",
     "output_type": "stream",
     "text": [
      "Minimum charges: 2304.0\n",
      "Maximum charges: 49577.66\n",
      "Number of patients: 240\n",
      "Average charges: 15073.56\n"
     ]
    }
   ],
   "source": [
    "# Finding min, max and average insurance cost for patients with 2 children\n",
    "two_children = create_dict(data_dict, 'children', 2)\n",
    "min_max_avg(two_children, 'charges')"
   ]
  },
  {
   "cell_type": "code",
   "execution_count": 9,
   "metadata": {},
   "outputs": [
    {
     "name": "stdout",
     "output_type": "stream",
     "text": [
      "Minimum charges: 3443.06\n",
      "Maximum charges: 60021.4\n",
      "Number of patients: 157\n",
      "Average charges: 15355.32\n"
     ]
    }
   ],
   "source": [
    "# Finding min, max and average insurance cost for patients with 3 children\n",
    "three_children = create_dict(data_dict, 'children', 3)\n",
    "min_max_avg(three_children, 'charges')"
   ]
  },
  {
   "cell_type": "code",
   "execution_count": 10,
   "metadata": {},
   "outputs": [
    {
     "name": "stdout",
     "output_type": "stream",
     "text": [
      "Minimum charges: 4504.66\n",
      "Maximum charges: 40182.25\n",
      "Number of patients: 25\n",
      "Average charges: 13850.66\n"
     ]
    }
   ],
   "source": [
    "# Finding min, max and average insurance cost for patients with 4 children\n",
    "four_children = create_dict(data_dict, 'children', 4)\n",
    "min_max_avg(four_children, 'charges')"
   ]
  },
  {
   "cell_type": "code",
   "execution_count": 11,
   "metadata": {},
   "outputs": [
    {
     "name": "stdout",
     "output_type": "stream",
     "text": [
      "Minimum charges: 4687.8\n",
      "Maximum charges: 19023.26\n",
      "Number of patients: 18\n",
      "Average charges: 8786.04\n"
     ]
    }
   ],
   "source": [
    "# Finding min, max and average insurance cost for patients with 5 children\n",
    "five_children = create_dict(data_dict, 'children', 5)\n",
    "min_max_avg(five_children, 'charges')"
   ]
  },
  {
   "cell_type": "code",
   "execution_count": 12,
   "metadata": {},
   "outputs": [
    {
     "name": "stdout",
     "output_type": "stream",
     "text": [
      "Minimum charges: 1121.87\n",
      "Maximum charges: 62592.87\n",
      "Number of patients: 676\n",
      "Average charges: 13956.75\n"
     ]
    }
   ],
   "source": [
    "# Finding min, max and average insurance cost for male patients\n",
    "male = create_dict(data_dict, 'sex', 'male')\n",
    "min_max_avg(male, 'charges')"
   ]
  },
  {
   "cell_type": "code",
   "execution_count": 13,
   "metadata": {},
   "outputs": [
    {
     "name": "stdout",
     "output_type": "stream",
     "text": [
      "Maximum children: 5\n"
     ]
    }
   ],
   "source": [
    "# Finding the max number of children for male patients\n",
    "find_max(male, 'children')"
   ]
  },
  {
   "cell_type": "code",
   "execution_count": 14,
   "metadata": {},
   "outputs": [
    {
     "name": "stdout",
     "output_type": "stream",
     "text": [
      "Minimum charges: 1121.87\n",
      "Maximum charges: 62592.87\n",
      "Number of patients: 285\n",
      "Average charges: 12832.7\n"
     ]
    }
   ],
   "source": [
    "# Finding min, max and average insurance cost for male patients with 0 children\n",
    "male_zero_child = create_dict(male, 'children', 0)\n",
    "min_max_avg(male_zero_child, 'charges')"
   ]
  },
  {
   "cell_type": "code",
   "execution_count": 15,
   "metadata": {},
   "outputs": [
    {
     "name": "stdout",
     "output_type": "stream",
     "text": [
      "Minimum charges: 1711.03\n",
      "Maximum charges: 51194.56\n",
      "Number of patients: 166\n",
      "Average charges: 13273.52\n"
     ]
    }
   ],
   "source": [
    "# Finding min, max and average insurance cost for male patients with 1 child\n",
    "male_one_child = create_dict(male, 'children', 1)\n",
    "min_max_avg(male_one_child, 'charges')"
   ]
  },
  {
   "cell_type": "code",
   "execution_count": 25,
   "metadata": {},
   "outputs": [
    {
     "name": "stdout",
     "output_type": "stream",
     "text": [
      "\n",
      " For male patients with 0 children:\n",
      "Minimum charges: 1121.87\n",
      "Maximum charges: 62592.87\n",
      "Number of patients: 285\n",
      "Average charges: 12832.7\n",
      "\n",
      " For male patients with 1 child:\n",
      "Minimum charges: 1711.03\n",
      "Maximum charges: 51194.56\n",
      "Number of patients: 166\n",
      "Average charges: 13273.52\n",
      "\n",
      " For male patients with 2 children:\n",
      "Minimum charges: 2304.0\n",
      "Maximum charges: 49577.66\n",
      "Number of patients: 121\n",
      "Average charges: 16187.1\n",
      "\n",
      " For male patients with 3 children:\n",
      "Minimum charges: 3443.06\n",
      "Maximum charges: 60021.4\n",
      "Number of patients: 80\n",
      "Average charges: 16789.17\n",
      "\n",
      " For male patients with 4 children:\n",
      "Minimum charges: 4504.66\n",
      "Maximum charges: 40182.25\n",
      "Number of patients: 14\n",
      "Average charges: 13782.28\n",
      "\n",
      " For male patients with 5 children:\n",
      "Minimum charges: 4915.06\n",
      "Maximum charges: 14478.33\n",
      "Number of patients: 10\n",
      "Average charges: 7931.66\n"
     ]
    }
   ],
   "source": [
    "# Iterating through the number of children for the male group\n",
    "children = [0, 1, 2, 3, 4, 5]\n",
    "male_dict = []\n",
    "for number in children:\n",
    "    male_dict.append(create_dict(male, 'children', number))\n",
    "i = 0\n",
    "for group in male_dict:\n",
    "    if i != 1:\n",
    "        print('\\n For male patients with ' + str(i) + ' children:')\n",
    "    else:\n",
    "        print('\\n For male patients with ' + str(i) + ' child:')\n",
    "    i += 1\n",
    "    min_max_avg(group, 'charges')"
   ]
  },
  {
   "cell_type": "code",
   "execution_count": null,
   "metadata": {},
   "outputs": [],
   "source": []
  }
 ],
 "metadata": {
  "kernelspec": {
   "display_name": "Python 3",
   "language": "python",
   "name": "python3"
  },
  "language_info": {
   "codemirror_mode": {
    "name": "ipython",
    "version": 3
   },
   "file_extension": ".py",
   "mimetype": "text/x-python",
   "name": "python",
   "nbconvert_exporter": "python",
   "pygments_lexer": "ipython3",
   "version": "3.9.0"
  }
 },
 "nbformat": 4,
 "nbformat_minor": 4
}
